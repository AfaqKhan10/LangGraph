{
 "cells": [
  {
   "cell_type": "code",
   "execution_count": 9,
   "id": "9fda869e",
   "metadata": {},
   "outputs": [],
   "source": [
    "from langgraph.graph import StateGraph, START, END\n",
    "from typing import TypedDict"
   ]
  },
  {
   "cell_type": "code",
   "execution_count": 10,
   "id": "a7bbec9e",
   "metadata": {},
   "outputs": [],
   "source": [
    "class GradeState(TypedDict):\n",
    "    marks: float\n",
    "    total_marks: float\n",
    "    percentage: float\n",
    "    grade: str"
   ]
  },
  {
   "cell_type": "code",
   "execution_count": 11,
   "id": "19aaf1ba",
   "metadata": {},
   "outputs": [],
   "source": [
    "def calculate_percentage(state: GradeState) -> GradeState:\n",
    "    marks = state[\"marks\"]\n",
    "    total = state[\"total_marks\"]\n",
    "    percentage = (marks / total) * 100\n",
    "\n",
    "    state[\"percentage\"] = round(percentage, 2)\n",
    "    return state"
   ]
  },
  {
   "cell_type": "code",
   "execution_count": 12,
   "id": "7f2b7440",
   "metadata": {},
   "outputs": [],
   "source": [
    "def label_grade(state: GradeState) -> GradeState:\n",
    "    percentage = state[\"percentage\"]\n",
    "\n",
    "    if percentage >= 85:\n",
    "        state[\"grade\"] = \"A+\"\n",
    "    elif percentage >= 70:\n",
    "        state[\"grade\"] = \"A\"\n",
    "    elif percentage >= 60:\n",
    "        state[\"grade\"] = \"B\"\n",
    "    elif percentage >= 50:\n",
    "        state[\"grade\"] = \"C\"\n",
    "    else:\n",
    "        state[\"grade\"] = \"Fail\"\n",
    "\n",
    "    return state"
   ]
  },
  {
   "cell_type": "code",
   "execution_count": 13,
   "id": "69ef3341",
   "metadata": {},
   "outputs": [
    {
     "data": {
      "text/plain": [
       "<langgraph.graph.state.StateGraph at 0x1ad0275c2d0>"
      ]
     },
     "execution_count": 13,
     "metadata": {},
     "output_type": "execute_result"
    }
   ],
   "source": [
    "graph = StateGraph(GradeState)\n",
    "\n",
    "graph.add_node(\"calculate_percentage\", calculate_percentage)\n",
    "graph.add_node(\"label_grade\", label_grade)\n",
    "\n",
    "graph.add_edge(START, \"calculate_percentage\")\n",
    "graph.add_edge(\"calculate_percentage\", \"label_grade\")\n",
    "graph.add_edge(\"label_grade\", END)"
   ]
  },
  {
   "cell_type": "code",
   "execution_count": 14,
   "id": "8742ea44",
   "metadata": {},
   "outputs": [],
   "source": [
    "workflow = graph.compile()"
   ]
  },
  {
   "cell_type": "code",
   "execution_count": 15,
   "id": "ed965ba8",
   "metadata": {},
   "outputs": [
    {
     "name": "stdout",
     "output_type": "stream",
     "text": [
      "{'marks': 73, 'total_marks': 100, 'percentage': 73.0, 'grade': 'A'}\n"
     ]
    }
   ],
   "source": [
    "initial_state = {\"marks\": 73, \"total_marks\": 100}\n",
    "final_state = workflow.invoke(initial_state)\n",
    "print(final_state)"
   ]
  },
  {
   "cell_type": "code",
   "execution_count": 16,
   "id": "f688c677",
   "metadata": {},
   "outputs": [
    {
     "data": {
      "image/png": "[encoded data removed]",
      "text/plain": [
       "<IPython.core.display.Image object>"
      ]
     },
     "execution_count": 16,
     "metadata": {},
     "output_type": "execute_result"
    }
   ],
   "source": [
    "from IPython.display import Image\n",
    "Image(workflow.get_graph().draw_mermaid_png())"
   ]
  }
 ],
 "metadata": {
  "kernelspec": {
   "display_name": "venv",
   "language": "python",
   "name": "python3"
  },
  "language_info": {
   "codemirror_mode": {
    "name": "ipython",
    "version": 3
   },
   "file_extension": ".py",
   "mimetype": "text/x-python",
   "name": "python",
   "nbconvert_exporter": "python",
   "pygments_lexer": "ipython3",
   "version": "3.11.0"
  }
 },
 "nbformat": 4,
 "nbformat_minor": 5
}
